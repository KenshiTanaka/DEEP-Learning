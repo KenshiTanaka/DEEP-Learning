{
  "nbformat": 4,
  "nbformat_minor": 0,
  "metadata": {
    "colab": {
      "name": "最初のStreamlitアプリ.ipynb のコピー",
      "provenance": [],
      "collapsed_sections": [],
      "include_colab_link": true
    },
    "kernelspec": {
      "name": "python3",
      "display_name": "Python 3"
    },
    "language_info": {
      "name": "python"
    }
  },
  "cells": [
    {
      "cell_type": "markdown",
      "metadata": {
        "id": "view-in-github",
        "colab_type": "text"
      },
      "source": [
        "<a href=\"https://colab.research.google.com/github/KenshiTanaka/DEEP-Learning/blob/master/%E6%9C%80%E5%88%9D%E3%81%AEStreamlit%E3%82%A2%E3%83%97%E3%83%AA.ipynb\" target=\"_parent\"><img src=\"https://colab.research.google.com/assets/colab-badge.svg\" alt=\"Open In Colab\"/></a>"
      ]
    },
    {
      "cell_type": "markdown",
      "metadata": {
        "id": "8kW_qXJVTjic"
      },
      "source": [
        "# 最初のStreamlitアプリ\n",
        "タイトルを表示するだけのシンプルなStreamlitアプリを作成し、ngrokを使って動作を確認します。"
      ]
    },
    {
      "cell_type": "markdown",
      "source": [
        "## ●ライブラリのインストール\n",
        "Streamlit、およびアプリの動作の確認に使用する「ngrok」をインストールします。"
      ],
      "metadata": {
        "id": "vRJCuxALcgkb"
      }
    },
    {
      "cell_type": "code",
      "execution_count": 1,
      "metadata": {
        "id": "Pbqipzj3nCy4"
      },
      "outputs": [],
      "source": [
        "!pip install streamlit==1.7.0 --quiet\n",
        "!pip install pyngrok==4.1.1 --quiet"
      ]
    },
    {
      "cell_type": "markdown",
      "source": [
        "Streamlit、およびngrokをインポートしておきます。  \n",
        "エラーが発生する場合は、「ランタイム」→「ランタイムを再起動」によりランタイムを再起動し、再びコードセルを上から順に実行しましょう。"
      ],
      "metadata": {
        "id": "husUkYy5dhZ4"
      }
    },
    {
      "cell_type": "code",
      "source": [
        "import streamlit as st\n",
        "from pyngrok import ngrok"
      ],
      "metadata": {
        "id": "OsHcq-kaDwIi",
        "colab": {
          "base_uri": "https://localhost:8080/"
        },
        "outputId": "e1a98178-81cb-4076-811e-eae958df72c6"
      },
      "execution_count": 2,
      "outputs": [
        {
          "output_type": "stream",
          "name": "stderr",
          "text": [
            "2022-06-08 14:29:28.687 INFO    numexpr.utils: NumExpr defaulting to 2 threads.\n"
          ]
        }
      ]
    },
    {
      "cell_type": "markdown",
      "source": [
        "## ●シンプルなアプリの作成\n",
        "タイトルおよび表を表示するシンプルなアプリを作成し、ファイルに保存します。  \n",
        "表の表示には、pandasのDataFrameを使います。  \n",
        "`%%writefile`のマジックコマンドを使って、以下のコードを「app.py」に書き込みます。"
      ],
      "metadata": {
        "id": "5fOtVgU5duPe"
      }
    },
    {
      "cell_type": "code",
      "source": [
        "%%writefile app.py\n",
        "# 以下を「app.py」に書き込み\n",
        "import streamlit as st\n",
        "import pandas as pd\n",
        "\n",
        "st.title(\"Hello Streamlit!\")\n",
        "\n",
        "df = pd.DataFrame({\"数学\": [67, 76, 92, 81,57],\n",
        "                   \"英語\": [45, 81, 93, 48, 77],\n",
        "                   \"理科\": [65, 68, 77, 83, 91]})\n",
        "st.dataframe(df)"
      ],
      "metadata": {
        "id": "Ntj_BU3bnJli",
        "colab": {
          "base_uri": "https://localhost:8080/"
        },
        "outputId": "b705aabc-7e36-4681-c7c3-8a3762489ca4"
      },
      "execution_count": 4,
      "outputs": [
        {
          "output_type": "stream",
          "name": "stdout",
          "text": [
            "Overwriting app.py\n"
          ]
        }
      ]
    },
    {
      "cell_type": "markdown",
      "source": [
        "## ●Authtokenの設定\n",
        "ngrokで接続するために必要な「Authtoken」を設定します。  \n",
        "以下のコードの、  \n",
        "`!ngrok authtoken YourAuthtoken`  \n",
        "における  \n",
        "`YourAuthtoken`の箇所を、自分のAuthtokenに置き換えます。  \n",
        "Authtokenは、ngrokのサイトに登録すれば取得することができます。  \n",
        "https://ngrok.com/\n"
      ],
      "metadata": {
        "id": "j03EsJaHh4KK"
      }
    },
    {
      "cell_type": "code",
      "source": [
        "!ngrok authtoken 2AH8qmqP47gsOnMMFYdOtGwEznz_3WnT89MoCeX3D8DddxWDC"
      ],
      "metadata": {
        "id": "mTfmORj2Dn7-",
        "colab": {
          "base_uri": "https://localhost:8080/"
        },
        "outputId": "1a33fd19-bb1f-4b45-bf51-2de3c4d15f7c"
      },
      "execution_count": 5,
      "outputs": [
        {
          "output_type": "stream",
          "name": "stdout",
          "text": [
            "Authtoken saved to configuration file: /root/.ngrok2/ngrok.yml\n"
          ]
        }
      ]
    },
    {
      "cell_type": "markdown",
      "source": [
        "## ●アプリの起動と動作確認\n",
        "streamlitの`run`コマンドでアプリを起動します。\n"
      ],
      "metadata": {
        "id": "CnobL05MkjB1"
      }
    },
    {
      "cell_type": "code",
      "source": [
        "!streamlit run app.py &>/dev/null&  # 「&>/dev/null&」により、出力を非表示にしてバックグランドジョブとして実行"
      ],
      "metadata": {
        "id": "W0jXlMXWK0vi"
      },
      "execution_count": 6,
      "outputs": []
    },
    {
      "cell_type": "markdown",
      "source": [
        "ngrokのプロセスを終了した上で、新たにポートを指定して接続します。  \n",
        "接続の結果、urlを取得できます。  \n",
        "ngrokの無料プランでは同時に1つのプロセスしか動かせないので、エラーが発生した場合は「ランタイム」→「セッションの管理」で不要なGoogle Colabのセッションを修了しましょう。  "
      ],
      "metadata": {
        "id": "W5RLCJ7Sl2x_"
      }
    },
    {
      "cell_type": "code",
      "source": [
        "ngrok.kill()  # プロセスの修了\n",
        "url = ngrok.connect(port=\"8501\")  # 接続"
      ],
      "metadata": {
        "id": "v23ymsdLK3x7",
        "colab": {
          "base_uri": "https://localhost:8080/"
        },
        "outputId": "7f06ac10-96a0-4ac4-ffd4-2f3516d32a30"
      },
      "execution_count": 11,
      "outputs": [
        {
          "output_type": "stream",
          "name": "stderr",
          "text": [
            "2022-06-08 14:31:26.526 INFO    pyngrok.process: Killing ngrok process: 312\n",
            "2022-06-08 14:31:26.543 INFO    pyngrok.process: ngrok process starting: 327\n",
            "2022-06-08 14:31:26.565 INFO    pyngrok.process: t=2022-06-08T14:31:26+0000 lvl=info msg=\"no configuration paths supplied\"\n",
            "\n",
            "2022-06-08 14:31:26.567 INFO    pyngrok.process: t=2022-06-08T14:31:26+0000 lvl=info msg=\"using configuration at default config path\" path=/root/.ngrok2/ngrok.yml\n",
            "\n",
            "2022-06-08 14:31:26.571 INFO    pyngrok.process: t=2022-06-08T14:31:26+0000 lvl=info msg=\"open config file\" path=/root/.ngrok2/ngrok.yml err=nil\n",
            "\n",
            "2022-06-08 14:31:26.582 INFO    pyngrok.process: t=2022-06-08T14:31:26+0000 lvl=info msg=\"starting web service\" obj=web addr=127.0.0.1:4040\n",
            "\n",
            "2022-06-08 14:31:26.748 INFO    pyngrok.process: t=2022-06-08T14:31:26+0000 lvl=info msg=\"tunnel session started\" obj=tunnels.session\n",
            "\n",
            "2022-06-08 14:31:26.752 INFO    pyngrok.process: t=2022-06-08T14:31:26+0000 lvl=info msg=\"client session established\" obj=csess id=6072567fe8db\n",
            "\n",
            "2022-06-08 14:31:26.756 INFO    pyngrok.process: ngrok process has started: http://127.0.0.1:4040\n",
            "2022-06-08 14:31:26.759 INFO    pyngrok.process: t=2022-06-08T14:31:26+0000 lvl=info msg=start pg=/api/tunnels id=7e80ed020feb0e01\n",
            "\n",
            "2022-06-08 14:31:26.761 INFO    pyngrok.process: t=2022-06-08T14:31:26+0000 lvl=info msg=end pg=/api/tunnels id=7e80ed020feb0e01 status=200 dur=710.788µs\n",
            "\n",
            "2022-06-08 14:31:26.769 INFO    pyngrok.process: t=2022-06-08T14:31:26+0000 lvl=info msg=start pg=/api/tunnels id=22217b69924b0f0f\n",
            "\n",
            "2022-06-08 14:31:26.774 INFO    pyngrok.process: t=2022-06-08T14:31:26+0000 lvl=info msg=end pg=/api/tunnels id=22217b69924b0f0f status=200 dur=188.707µs\n",
            "\n",
            "2022-06-08 14:31:26.776 INFO    pyngrok.process: t=2022-06-08T14:31:26+0000 lvl=info msg=start pg=/api/tunnels id=8be9ad2c92bcaa4e\n",
            "\n",
            "2022-06-08 14:31:26.869 INFO    pyngrok.process: t=2022-06-08T14:31:26+0000 lvl=info msg=\"started tunnel\" obj=tunnels name=\"http-8501-1d2c26de-74ab-4e00-8499-322c695d3642 (http)\" addr=http://localhost:8501 url=http://a633-34-74-222-4.ngrok.io\n",
            "\n",
            "2022-06-08 14:31:26.873 INFO    pyngrok.process: t=2022-06-08T14:31:26+0000 lvl=info msg=\"started tunnel\" obj=tunnels name=http-8501-1d2c26de-74ab-4e00-8499-322c695d3642 addr=http://localhost:8501 url=https://a633-34-74-222-4.ngrok.io\n",
            "\n",
            "2022-06-08 14:31:26.875 INFO    pyngrok.process: t=2022-06-08T14:31:26+0000 lvl=info msg=end pg=/api/tunnels id=8be9ad2c92bcaa4e status=201 dur=98.101883ms\n",
            "\n"
          ]
        }
      ]
    },
    {
      "cell_type": "markdown",
      "source": [
        "urlを表示し、リンク先でアプリが動作することを確認します。"
      ],
      "metadata": {
        "id": "NZ0O_pNan57t"
      }
    },
    {
      "cell_type": "code",
      "source": [
        "print(url)"
      ],
      "metadata": {
        "id": "MIY7ositLAXC",
        "colab": {
          "base_uri": "https://localhost:8080/"
        },
        "outputId": "bdd849bd-3f6b-47a8-c2e8-ac0a208e2136"
      },
      "execution_count": 12,
      "outputs": [
        {
          "output_type": "stream",
          "name": "stdout",
          "text": [
            "http://a633-34-74-222-4.ngrok.io\n"
          ]
        }
      ]
    }
  ]
}