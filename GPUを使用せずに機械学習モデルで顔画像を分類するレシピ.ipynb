{
  "nbformat": 4,
  "nbformat_minor": 0,
  "metadata": {
    "colab": {
      "name": "GPUを使用せずに機械学習モデルで顔画像を分類するレシピ.ipynb のコピー",
      "provenance": [],
      "mount_file_id": "1vqqoPyqfbsl3t4Qc13dtgyIpyIMw6xNo",
      "authorship_tag": "ABX9TyN/D3CYxW3TBUO0JhSuwY4k",
      "include_colab_link": true
    },
    "kernelspec": {
      "name": "python3",
      "display_name": "Python 3"
    },
    "language_info": {
      "name": "python"
    },
    "accelerator": "GPU"
  },
  "cells": [
    {
      "cell_type": "markdown",
      "metadata": {
        "id": "view-in-github",
        "colab_type": "text"
      },
      "source": [
        "<a href=\"https://colab.research.google.com/github/KenshiTanaka/DEEP-Learning/blob/master/GPU%E3%82%92%E4%BD%BF%E7%94%A8%E3%81%9B%E3%81%9A%E3%81%AB%E6%A9%9F%E6%A2%B0%E5%AD%A6%E7%BF%92%E3%83%A2%E3%83%87%E3%83%AB%E3%81%A7%E9%A1%94%E7%94%BB%E5%83%8F%E3%82%92%E5%88%86%E9%A1%9E%E3%81%99%E3%82%8B%E3%83%AC%E3%82%B7%E3%83%94.ipynb\" target=\"_parent\"><img src=\"https://colab.research.google.com/assets/colab-badge.svg\" alt=\"Open In Colab\"/></a>"
      ]
    },
    {
      "cell_type": "code",
      "execution_count": null,
      "metadata": {
        "colab": {
          "base_uri": "https://localhost:8080/"
        },
        "id": "QqVo0gdob0wp",
        "outputId": "c53c66ec-3c71-46e5-ecd8-904e47fc4c3d"
      },
      "outputs": [
        {
          "output_type": "stream",
          "name": "stdout",
          "text": [
            "Looking in indexes: https://pypi.org/simple, https://us-python.pkg.dev/colab-wheels/public/simple/\n",
            "Requirement already satisfied: scikit-learn==0.23.2 in /usr/local/lib/python3.7/dist-packages (0.23.2)\n",
            "Requirement already satisfied: matplotlib==3.3.2 in /usr/local/lib/python3.7/dist-packages (3.3.2)\n",
            "Requirement already satisfied: numpy>=1.13.3 in /usr/local/lib/python3.7/dist-packages (from scikit-learn==0.23.2) (1.21.6)\n",
            "Requirement already satisfied: scipy>=0.19.1 in /usr/local/lib/python3.7/dist-packages (from scikit-learn==0.23.2) (1.4.1)\n",
            "Requirement already satisfied: joblib>=0.11 in /usr/local/lib/python3.7/dist-packages (from scikit-learn==0.23.2) (1.1.0)\n",
            "Requirement already satisfied: threadpoolctl>=2.0.0 in /usr/local/lib/python3.7/dist-packages (from scikit-learn==0.23.2) (3.1.0)\n",
            "Requirement already satisfied: kiwisolver>=1.0.1 in /usr/local/lib/python3.7/dist-packages (from matplotlib==3.3.2) (1.4.2)\n",
            "Requirement already satisfied: pillow>=6.2.0 in /usr/local/lib/python3.7/dist-packages (from matplotlib==3.3.2) (7.1.2)\n",
            "Requirement already satisfied: pyparsing!=2.0.4,!=2.1.2,!=2.1.6,>=2.0.3 in /usr/local/lib/python3.7/dist-packages (from matplotlib==3.3.2) (3.0.9)\n",
            "Requirement already satisfied: cycler>=0.10 in /usr/local/lib/python3.7/dist-packages (from matplotlib==3.3.2) (0.11.0)\n",
            "Requirement already satisfied: python-dateutil>=2.1 in /usr/local/lib/python3.7/dist-packages (from matplotlib==3.3.2) (2.8.2)\n",
            "Requirement already satisfied: certifi>=2020.06.20 in /usr/local/lib/python3.7/dist-packages (from matplotlib==3.3.2) (2022.5.18.1)\n",
            "Requirement already satisfied: typing-extensions in /usr/local/lib/python3.7/dist-packages (from kiwisolver>=1.0.1->matplotlib==3.3.2) (4.2.0)\n",
            "Requirement already satisfied: six>=1.5 in /usr/local/lib/python3.7/dist-packages (from python-dateutil>=2.1->matplotlib==3.3.2) (1.15.0)\n"
          ]
        }
      ],
      "source": [
        "!pip install scikit-learn==0.23.2 matplotlib==3.3.2"
      ]
    },
    {
      "cell_type": "code",
      "source": [
        "from sklearn.datasets import fetch_olivetti_faces\n",
        "\n",
        "data = fetch_olivetti_faces()\n",
        "\n",
        "data"
      ],
      "metadata": {
        "colab": {
          "base_uri": "https://localhost:8080/"
        },
        "id": "vlG1JbeAdqDf",
        "outputId": "238b0243-be8a-4b60-d0b4-ea09f9978cb6"
      },
      "execution_count": null,
      "outputs": [
        {
          "output_type": "execute_result",
          "data": {
            "text/plain": [
              "{'DESCR': '.. _olivetti_faces_dataset:\\n\\nThe Olivetti faces dataset\\n--------------------------\\n\\n`This dataset contains a set of face images`_ taken between April 1992 and \\nApril 1994 at AT&T Laboratories Cambridge. The\\n:func:`sklearn.datasets.fetch_olivetti_faces` function is the data\\nfetching / caching function that downloads the data\\narchive from AT&T.\\n\\n.. _This dataset contains a set of face images: http://www.cl.cam.ac.uk/research/dtg/attarchive/facedatabase.html\\n\\nAs described on the original website:\\n\\n    There are ten different images of each of 40 distinct subjects. For some\\n    subjects, the images were taken at different times, varying the lighting,\\n    facial expressions (open / closed eyes, smiling / not smiling) and facial\\n    details (glasses / no glasses). All the images were taken against a dark\\n    homogeneous background with the subjects in an upright, frontal position \\n    (with tolerance for some side movement).\\n\\n**Data Set Characteristics:**\\n\\n    =================   =====================\\n    Classes                                40\\n    Samples total                         400\\n    Dimensionality                       4096\\n    Features            real, between 0 and 1\\n    =================   =====================\\n\\nThe image is quantized to 256 grey levels and stored as unsigned 8-bit \\nintegers; the loader will convert these to floating point values on the \\ninterval [0, 1], which are easier to work with for many algorithms.\\n\\nThe \"target\" for this database is an integer from 0 to 39 indicating the\\nidentity of the person pictured; however, with only 10 examples per class, this\\nrelatively small dataset is more interesting from an unsupervised or\\nsemi-supervised perspective.\\n\\nThe original dataset consisted of 92 x 112, while the version available here\\nconsists of 64x64 images.\\n\\nWhen using these images, please give credit to AT&T Laboratories Cambridge.\\n',\n",
              " 'data': array([[0.30991736, 0.3677686 , 0.41735536, ..., 0.15289256, 0.16115703,\n",
              "         0.1570248 ],\n",
              "        [0.45454547, 0.47107437, 0.5123967 , ..., 0.15289256, 0.15289256,\n",
              "         0.15289256],\n",
              "        [0.3181818 , 0.40082645, 0.49173555, ..., 0.14049587, 0.14876033,\n",
              "         0.15289256],\n",
              "        ...,\n",
              "        [0.5       , 0.53305787, 0.607438  , ..., 0.17768595, 0.14876033,\n",
              "         0.19008264],\n",
              "        [0.21487603, 0.21900827, 0.21900827, ..., 0.57438016, 0.59090906,\n",
              "         0.60330576],\n",
              "        [0.5165289 , 0.46280992, 0.28099173, ..., 0.35950413, 0.3553719 ,\n",
              "         0.38429752]], dtype=float32),\n",
              " 'images': array([[[0.30991736, 0.3677686 , 0.41735536, ..., 0.37190083,\n",
              "          0.3305785 , 0.30578512],\n",
              "         [0.3429752 , 0.40495867, 0.43801653, ..., 0.37190083,\n",
              "          0.338843  , 0.3140496 ],\n",
              "         [0.3429752 , 0.41735536, 0.45041323, ..., 0.38016528,\n",
              "          0.338843  , 0.29752067],\n",
              "         ...,\n",
              "         [0.21487603, 0.20661157, 0.2231405 , ..., 0.15289256,\n",
              "          0.16528925, 0.17355372],\n",
              "         [0.20247933, 0.2107438 , 0.2107438 , ..., 0.14876033,\n",
              "          0.16115703, 0.16528925],\n",
              "         [0.20247933, 0.20661157, 0.20247933, ..., 0.15289256,\n",
              "          0.16115703, 0.1570248 ]],\n",
              " \n",
              "        [[0.45454547, 0.47107437, 0.5123967 , ..., 0.19008264,\n",
              "          0.18595041, 0.18595041],\n",
              "         [0.446281  , 0.48347107, 0.5206612 , ..., 0.21487603,\n",
              "          0.2107438 , 0.2107438 ],\n",
              "         [0.49586776, 0.5165289 , 0.53305787, ..., 0.20247933,\n",
              "          0.20661157, 0.20661157],\n",
              "         ...,\n",
              "         [0.77272725, 0.78099173, 0.7933884 , ..., 0.1446281 ,\n",
              "          0.1446281 , 0.1446281 ],\n",
              "         [0.77272725, 0.7768595 , 0.7892562 , ..., 0.13636364,\n",
              "          0.13636364, 0.13636364],\n",
              "         [0.7644628 , 0.7892562 , 0.78099173, ..., 0.15289256,\n",
              "          0.15289256, 0.15289256]],\n",
              " \n",
              "        [[0.3181818 , 0.40082645, 0.49173555, ..., 0.40082645,\n",
              "          0.3553719 , 0.30991736],\n",
              "         [0.30991736, 0.3966942 , 0.47933885, ..., 0.40495867,\n",
              "          0.37603307, 0.30165288],\n",
              "         [0.26859504, 0.34710744, 0.45454547, ..., 0.3966942 ,\n",
              "          0.37190083, 0.30991736],\n",
              "         ...,\n",
              "         [0.1322314 , 0.09917355, 0.08264463, ..., 0.13636364,\n",
              "          0.14876033, 0.15289256],\n",
              "         [0.11570248, 0.09504132, 0.0785124 , ..., 0.1446281 ,\n",
              "          0.1446281 , 0.1570248 ],\n",
              "         [0.11157025, 0.09090909, 0.0785124 , ..., 0.14049587,\n",
              "          0.14876033, 0.15289256]],\n",
              " \n",
              "        ...,\n",
              " \n",
              "        [[0.5       , 0.53305787, 0.607438  , ..., 0.28512397,\n",
              "          0.23966943, 0.21487603],\n",
              "         [0.49173555, 0.5413223 , 0.60330576, ..., 0.29752067,\n",
              "          0.20247933, 0.20661157],\n",
              "         [0.46694216, 0.55785125, 0.6198347 , ..., 0.29752067,\n",
              "          0.17768595, 0.18595041],\n",
              "         ...,\n",
              "         [0.03305785, 0.46280992, 0.5289256 , ..., 0.17355372,\n",
              "          0.17355372, 0.1694215 ],\n",
              "         [0.1570248 , 0.5247934 , 0.53305787, ..., 0.16528925,\n",
              "          0.1570248 , 0.18595041],\n",
              "         [0.45454547, 0.5206612 , 0.53305787, ..., 0.17768595,\n",
              "          0.14876033, 0.19008264]],\n",
              " \n",
              "        [[0.21487603, 0.21900827, 0.21900827, ..., 0.71487606,\n",
              "          0.71487606, 0.6942149 ],\n",
              "         [0.20247933, 0.20661157, 0.20661157, ..., 0.7107438 ,\n",
              "          0.7066116 , 0.6942149 ],\n",
              "         [0.2107438 , 0.20661157, 0.20661157, ..., 0.6859504 ,\n",
              "          0.69008267, 0.6942149 ],\n",
              "         ...,\n",
              "         [0.2644628 , 0.25619835, 0.2603306 , ..., 0.5413223 ,\n",
              "          0.57438016, 0.59090906],\n",
              "         [0.26859504, 0.2644628 , 0.26859504, ..., 0.56198347,\n",
              "          0.58264464, 0.59504133],\n",
              "         [0.27272728, 0.26859504, 0.27272728, ..., 0.57438016,\n",
              "          0.59090906, 0.60330576]],\n",
              " \n",
              "        [[0.5165289 , 0.46280992, 0.28099173, ..., 0.5785124 ,\n",
              "          0.5413223 , 0.60330576],\n",
              "         [0.5165289 , 0.45041323, 0.29338843, ..., 0.58264464,\n",
              "          0.553719  , 0.5785124 ],\n",
              "         [0.5165289 , 0.44214877, 0.29338843, ..., 0.59917355,\n",
              "          0.5785124 , 0.54545456],\n",
              "         ...,\n",
              "         [0.39256197, 0.41322315, 0.38842976, ..., 0.33471075,\n",
              "          0.37190083, 0.3966942 ],\n",
              "         [0.39256197, 0.38429752, 0.40495867, ..., 0.3305785 ,\n",
              "          0.35950413, 0.37603307],\n",
              "         [0.3677686 , 0.40495867, 0.3966942 , ..., 0.35950413,\n",
              "          0.3553719 , 0.38429752]]], dtype=float32),\n",
              " 'target': array([ 0,  0,  0,  0,  0,  0,  0,  0,  0,  0,  1,  1,  1,  1,  1,  1,  1,\n",
              "         1,  1,  1,  2,  2,  2,  2,  2,  2,  2,  2,  2,  2,  3,  3,  3,  3,\n",
              "         3,  3,  3,  3,  3,  3,  4,  4,  4,  4,  4,  4,  4,  4,  4,  4,  5,\n",
              "         5,  5,  5,  5,  5,  5,  5,  5,  5,  6,  6,  6,  6,  6,  6,  6,  6,\n",
              "         6,  6,  7,  7,  7,  7,  7,  7,  7,  7,  7,  7,  8,  8,  8,  8,  8,\n",
              "         8,  8,  8,  8,  8,  9,  9,  9,  9,  9,  9,  9,  9,  9,  9, 10, 10,\n",
              "        10, 10, 10, 10, 10, 10, 10, 10, 11, 11, 11, 11, 11, 11, 11, 11, 11,\n",
              "        11, 12, 12, 12, 12, 12, 12, 12, 12, 12, 12, 13, 13, 13, 13, 13, 13,\n",
              "        13, 13, 13, 13, 14, 14, 14, 14, 14, 14, 14, 14, 14, 14, 15, 15, 15,\n",
              "        15, 15, 15, 15, 15, 15, 15, 16, 16, 16, 16, 16, 16, 16, 16, 16, 16,\n",
              "        17, 17, 17, 17, 17, 17, 17, 17, 17, 17, 18, 18, 18, 18, 18, 18, 18,\n",
              "        18, 18, 18, 19, 19, 19, 19, 19, 19, 19, 19, 19, 19, 20, 20, 20, 20,\n",
              "        20, 20, 20, 20, 20, 20, 21, 21, 21, 21, 21, 21, 21, 21, 21, 21, 22,\n",
              "        22, 22, 22, 22, 22, 22, 22, 22, 22, 23, 23, 23, 23, 23, 23, 23, 23,\n",
              "        23, 23, 24, 24, 24, 24, 24, 24, 24, 24, 24, 24, 25, 25, 25, 25, 25,\n",
              "        25, 25, 25, 25, 25, 26, 26, 26, 26, 26, 26, 26, 26, 26, 26, 27, 27,\n",
              "        27, 27, 27, 27, 27, 27, 27, 27, 28, 28, 28, 28, 28, 28, 28, 28, 28,\n",
              "        28, 29, 29, 29, 29, 29, 29, 29, 29, 29, 29, 30, 30, 30, 30, 30, 30,\n",
              "        30, 30, 30, 30, 31, 31, 31, 31, 31, 31, 31, 31, 31, 31, 32, 32, 32,\n",
              "        32, 32, 32, 32, 32, 32, 32, 33, 33, 33, 33, 33, 33, 33, 33, 33, 33,\n",
              "        34, 34, 34, 34, 34, 34, 34, 34, 34, 34, 35, 35, 35, 35, 35, 35, 35,\n",
              "        35, 35, 35, 36, 36, 36, 36, 36, 36, 36, 36, 36, 36, 37, 37, 37, 37,\n",
              "        37, 37, 37, 37, 37, 37, 38, 38, 38, 38, 38, 38, 38, 38, 38, 38, 39,\n",
              "        39, 39, 39, 39, 39, 39, 39, 39, 39])}"
            ]
          },
          "metadata": {},
          "execution_count": 2
        }
      ]
    },
    {
      "cell_type": "code",
      "source": [
        "print(data.images.shape) #顔画像データ\n",
        "print(data.data.shape)  #顔画像データを1次元に変換したもの\n",
        "print(data.target.shape) #顔画像データに対する正解ラベル"
      ],
      "metadata": {
        "colab": {
          "base_uri": "https://localhost:8080/"
        },
        "id": "kSAO3WiCeAQA",
        "outputId": "ea31d8e2-1774-4f9e-885d-dcd5cb93d834"
      },
      "execution_count": null,
      "outputs": [
        {
          "output_type": "stream",
          "name": "stdout",
          "text": [
            "(400, 64, 64)\n",
            "(400, 4096)\n",
            "(400,)\n"
          ]
        }
      ]
    },
    {
      "cell_type": "code",
      "source": [
        "data.images[0]"
      ],
      "metadata": {
        "colab": {
          "base_uri": "https://localhost:8080/"
        },
        "id": "Nz8g8JXpeUOJ",
        "outputId": "2caeed8c-158d-48fd-83a2-c64f6561ae89"
      },
      "execution_count": null,
      "outputs": [
        {
          "output_type": "execute_result",
          "data": {
            "text/plain": [
              "array([[0.30991736, 0.3677686 , 0.41735536, ..., 0.37190083, 0.3305785 ,\n",
              "        0.30578512],\n",
              "       [0.3429752 , 0.40495867, 0.43801653, ..., 0.37190083, 0.338843  ,\n",
              "        0.3140496 ],\n",
              "       [0.3429752 , 0.41735536, 0.45041323, ..., 0.38016528, 0.338843  ,\n",
              "        0.29752067],\n",
              "       ...,\n",
              "       [0.21487603, 0.20661157, 0.2231405 , ..., 0.15289256, 0.16528925,\n",
              "        0.17355372],\n",
              "       [0.20247933, 0.2107438 , 0.2107438 , ..., 0.14876033, 0.16115703,\n",
              "        0.16528925],\n",
              "       [0.20247933, 0.20661157, 0.20247933, ..., 0.15289256, 0.16115703,\n",
              "        0.1570248 ]], dtype=float32)"
            ]
          },
          "metadata": {},
          "execution_count": 4
        }
      ]
    },
    {
      "cell_type": "code",
      "source": [
        "#数値を画像として出力\n",
        "import matplotlib.pyplot as plt\n",
        "\n",
        "plt.imshow(data.images[0], cmap = \"Blues\") #画像データから指定したカラーで画像を生成\n",
        "plt.show()#生成したが画像を表示\n",
        "\n"
      ],
      "metadata": {
        "colab": {
          "base_uri": "https://localhost:8080/",
          "height": 268
        },
        "id": "ojuDoE55eiac",
        "outputId": "1005b1cc-9738-4241-f9fe-73234986dcfc"
      },
      "execution_count": null,
      "outputs": [
        {
          "output_type": "display_data",
          "data": {
            "text/plain": [
              "<Figure size 432x288 with 1 Axes>"
            ],
            "image/png": "[encoded data removed]"
          },
          "metadata": {
            "needs_background": "light"
          }
        }
      ]
    },
    {
      "cell_type": "code",
      "source": [
        "plt. imshow(data.images[100], cmap = \"gray\")\n",
        "plt. show()"
      ],
      "metadata": {
        "colab": {
          "base_uri": "https://localhost:8080/",
          "height": 268
        },
        "id": "cY7yOtrk_OMV",
        "outputId": "8b594f1b-15b3-4a4a-dc10-99d9a47b3685"
      },
      "execution_count": null,
      "outputs": [
        {
          "output_type": "display_data",
          "data": {
            "text/plain": [
              "<Figure size 432x288 with 1 Axes>"
            ],
            "image/png": "[encoded data removed]"
          },
          "metadata": {
            "needs_background": "light"
          }
        }
      ]
    },
    {
      "cell_type": "code",
      "source": [
        "data.target[10]\n"
      ],
      "metadata": {
        "colab": {
          "base_uri": "https://localhost:8080/"
        },
        "id": "500ufqIZOu6m",
        "outputId": "6ae1ff3b-ae49-4eb6-ecf3-c55a55ca51be"
      },
      "execution_count": null,
      "outputs": [
        {
          "output_type": "execute_result",
          "data": {
            "text/plain": [
              "1"
            ]
          },
          "metadata": {},
          "execution_count": 12
        }
      ]
    },
    {
      "cell_type": "code",
      "source": [
        "from sklearn.model_selection import train_test_split #出たセットでサイズを分ける\n",
        "\n",
        "X_train, X_test, y_train, y_test = train_test_split(data.data, data.target, test_size=0.2, shuffle=True, stratify=data.target, random_state=0)\n",
        "#shuffle:データをシャッフルする、stratify:層化抽出、random_state:同じ分割結果を得るため、data.data:一次元データ\n",
        "print(X_train.shape)\n",
        "print(X_test.shape)\n",
        "print(y_train.shape)\n",
        "print(y_test.shape)\n"
      ],
      "metadata": {
        "colab": {
          "base_uri": "https://localhost:8080/"
        },
        "id": "yan6OyN5PAic",
        "outputId": "b0787ecc-93ff-43cb-8274-bf10c2718729"
      },
      "execution_count": null,
      "outputs": [
        {
          "output_type": "stream",
          "name": "stdout",
          "text": [
            "(320, 4096)\n",
            "(80, 4096)\n",
            "(320,)\n",
            "(80,)\n"
          ]
        }
      ]
    },
    {
      "cell_type": "code",
      "source": [
        "from collections import Counter\n",
        "\n",
        "print(Counter(y_train))\n"
      ],
      "metadata": {
        "colab": {
          "base_uri": "https://localhost:8080/"
        },
        "id": "PMGmAj_eQTOD",
        "outputId": "e4b72c23-2df1-4b80-811a-a74105ad91c5"
      },
      "execution_count": null,
      "outputs": [
        {
          "output_type": "stream",
          "name": "stdout",
          "text": [
            "Counter({16: 8, 18: 8, 28: 8, 34: 8, 10: 8, 29: 8, 24: 8, 26: 8, 20: 8, 17: 8, 6: 8, 22: 8, 32: 8, 31: 8, 1: 8, 25: 8, 2: 8, 0: 8, 21: 8, 11: 8, 12: 8, 19: 8, 35: 8, 37: 8, 5: 8, 33: 8, 27: 8, 23: 8, 15: 8, 30: 8, 9: 8, 7: 8, 13: 8, 38: 8, 39: 8, 3: 8, 4: 8, 14: 8, 8: 8, 36: 8})\n"
          ]
        }
      ]
    },
    {
      "cell_type": "markdown",
      "source": [
        "層化抽出を行うことで各ラベルが8個ずつ似なっている。データを均等に分割することで訓練データとテストデータの偏りをなくすことができる"
      ],
      "metadata": {
        "id": "pROCaJRkWTPD"
      }
    },
    {
      "cell_type": "code",
      "source": [
        "from sklearn.ensemble import RandomForestClassifier\n",
        "\n",
        "clf = RandomForestClassifier(random_state=0) #random_stateを固定することで同じ結果を得ることができる\n"
      ],
      "metadata": {
        "id": "R-xjQiPCQhXw"
      },
      "execution_count": null,
      "outputs": []
    },
    {
      "cell_type": "code",
      "source": [
        "clf.fit(X_train, y_train)\n",
        "#第一引数に訓練データの特徴量、第二引数に訓練データのデータセット"
      ],
      "metadata": {
        "colab": {
          "base_uri": "https://localhost:8080/"
        },
        "id": "cinNJz_iQ69x",
        "outputId": "5a38c202-3456-4b69-ad73-e841f15619a3"
      },
      "execution_count": null,
      "outputs": [
        {
          "output_type": "execute_result",
          "data": {
            "text/plain": [
              "RandomForestClassifier(random_state=0)"
            ]
          },
          "metadata": {},
          "execution_count": 17
        }
      ]
    },
    {
      "cell_type": "code",
      "source": [
        "y_pred = clf.predict(X_test)#第一引数にデータセットの特徴量を指定\n",
        "y_pred\n"
      ],
      "metadata": {
        "colab": {
          "base_uri": "https://localhost:8080/"
        },
        "id": "hlGi1kQQRCMA",
        "outputId": "bfd1b19f-9ba8-4cc0-d8ac-8e432266e751"
      },
      "execution_count": null,
      "outputs": [
        {
          "output_type": "execute_result",
          "data": {
            "text/plain": [
              "array([ 7, 10, 11, 39, 29, 15, 23, 11, 27, 20,  7,  2,  3, 29, 31, 32,  0,\n",
              "       29, 33,  6,  2, 18,  5, 26, 39, 28, 21, 34, 30, 28, 22, 17, 13,  3,\n",
              "       19, 37,  0,  9, 38, 23, 22, 34, 36, 30, 35, 27, 22,  0, 36, 15, 38,\n",
              "        9, 12,  2, 12, 17, 35, 31, 29, 16, 19, 18, 16, 20,  6,  5,  1,  4,\n",
              "       33, 24, 26, 13, 14, 38, 10, 32, 37,  1, 14, 24])"
            ]
          },
          "metadata": {},
          "execution_count": 18
        }
      ]
    },
    {
      "cell_type": "code",
      "source": [
        "from sklearn.metrics import accuracy_score\n",
        "\n",
        "accuracy_score(y_test, y_pred)\n",
        "#関数sklearn.metrics.accuracy_scoreは第一引数派テストデータセットの正解ラベル、第二引数に予測を指定"
      ],
      "metadata": {
        "colab": {
          "base_uri": "https://localhost:8080/"
        },
        "id": "OB9lLauKRba0",
        "outputId": "2a530147-d803-4579-ac01-ee53526dd1d3"
      },
      "execution_count": null,
      "outputs": [
        {
          "output_type": "execute_result",
          "data": {
            "text/plain": [
              "0.925"
            ]
          },
          "metadata": {},
          "execution_count": 19
        }
      ]
    },
    {
      "cell_type": "markdown",
      "source": [
        "混同行列とはあるデータを分類したときに正解、不正解の　数を整理する表のこと\n",
        "\n",
        "真陽性(True Positive)\n",
        "判断したいもの以外を以外と正しく判別できた数\n",
        "\n",
        "真陰性(True Negative)\n",
        "判別したいもの以外を正しいときに正しく判別した数\n",
        "\n",
        "偽陽性(False Positive)\n",
        "判別したいもの以外を正しく正しく判別できなかった数\n",
        "\n",
        "偽陰性(False Negative)\n",
        "判別したいものを判別できなかった数"
      ],
      "metadata": {
        "id": "CXX23YrHYs6O"
      }
    },
    {
      "cell_type": "code",
      "source": [
        "#混同行列(Confusion Matrix)\n",
        "from sklearn.metrics import plot_confusion_matrix\n",
        "\n",
        "fig, ax = plt.subplots(figsize=(16, 16))\n",
        "plot_confusion_matrix(clf, X_test, y_test, ax=ax)\n",
        "plt.show()\n"
      ],
      "metadata": {
        "colab": {
          "base_uri": "https://localhost:8080/",
          "height": 657
        },
        "id": "LGoW0S_FRwJ3",
        "outputId": "ede4741d-e7e4-485c-b3a5-599515a14086"
      },
      "execution_count": null,
      "outputs": [
        {
          "output_type": "display_data",
          "data": {
            "text/plain": [
              "<Figure size 1152x1152 with 2 Axes>"
            ],
            "image/png": "[encoded data removed]"
          },
          "metadata": {
            "needs_background": "light"
          }
        }
      ]
    },
    {
      "cell_type": "markdown",
      "source": [
        "このコマンドのポイントは次の3点です。\n",
        "\n",
        "関数plt.subplotsの第一引数に図を描画する範囲のサイズを指定します\n",
        "関数plot_confusion_matrixの第一引数に分類器、第二引数にテストデータの画像データ、第三引数にテストデータの正解ラベル、第四引数に図を描画する範囲を指定します\n",
        "関数matplotlib.pyplot.showを使用すると、生成した画像を表示します\n",
        "正解ラベルが8の画像データを2つとも29に誤分類していること、また25の画像データのうち1つを2、もう1つを22に誤分類していることがわかります。このように混同行列を出力することで、モデルの分類結果を視覚的に理解することができます。"
      ],
      "metadata": {
        "id": "n7Skynm8aQdw"
      }
    },
    {
      "cell_type": "code",
      "source": [
        "!git config --global user.name KenshiTanaka\n",
        "!git config --global user.email 1911140064f@ed.fuk.kindai.ac.jp\n"
      ],
      "metadata": {
        "id": "-XmDJ5tRxvBm"
      },
      "execution_count": 1,
      "outputs": []
    },
    {
      "cell_type": "code",
      "source": [
        "!git push origin master"
      ],
      "metadata": {
        "colab": {
          "base_uri": "https://localhost:8080/"
        },
        "id": "_A6kUAkb3l0b",
        "outputId": "50ab5e69-59dd-4d35-eea3-e34babf4b710"
      },
      "execution_count": 4,
      "outputs": [
        {
          "output_type": "stream",
          "name": "stdout",
          "text": [
            "fatal: not a git repository (or any of the parent directories): .git\n"
          ]
        }
      ]
    }
  ]
}