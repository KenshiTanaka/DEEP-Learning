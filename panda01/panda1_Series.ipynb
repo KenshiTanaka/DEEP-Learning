{
  "nbformat": 4,
  "nbformat_minor": 0,
  "metadata": {
    "colab": {
      "name": "panda1_Series.ipynb",
      "provenance": [],
      "authorship_tag": "ABX9TyMgxACortUtDvU7LlfLuoz9",
      "include_colab_link": true
    },
    "kernelspec": {
      "name": "python3",
      "display_name": "Python 3"
    },
    "language_info": {
      "name": "python"
    }
  },
  "cells": [
    {
      "cell_type": "markdown",
      "metadata": {
        "id": "view-in-github",
        "colab_type": "text"
      },
      "source": [
        "<a href=\"https://colab.research.google.com/github/KenshiTanaka/DEEP-Learning/blob/master/panda01/panda1_Series.ipynb\" target=\"_parent\"><img src=\"https://colab.research.google.com/assets/colab-badge.svg\" alt=\"Open In Colab\"/></a>"
      ]
    },
    {
      "cell_type": "code",
      "execution_count": 8,
      "metadata": {
        "colab": {
          "base_uri": "https://localhost:8080/"
        },
        "id": "r6CvSmIoFkuI",
        "outputId": "d392a026-d9fa-48b3-9fd2-8420fd9993a4"
      },
      "outputs": [
        {
          "output_type": "stream",
          "name": "stdout",
          "text": [
            "japanese     60\n",
            "English      20\n",
            "Math         50\n",
            "Science     100\n",
            "History      10\n",
            "dtype: int64\n",
            "<class 'pandas.core.series.Series'>\n",
            "English 20\n",
            "英語点数 20\n",
            "60\n",
            "japanese      60\n",
            "English       20\n",
            "Math          50\n",
            "Science      100\n",
            "History       10\n",
            "Art         1000\n",
            "dtype: int64\n"
          ]
        }
      ],
      "source": [
        "#Series一次元の追加の仕方と表示方法\n",
        "import pandas as pd\n",
        "import numpy as np\n",
        "\n",
        "a = pd.Series([60, 20, 50, 100, 10], index=[\"japanese\", \"English\", \"Math\", \"Science\", \"History\"])#追加、ラベルはindex\n",
        "print(a) #aを表示\n",
        "print(type(a))\n",
        "\n",
        "b = a[1]\n",
        "print(\"English\",b)\n",
        "\n",
        "print(\"英語点数\", a[1]) #2番めのインデックスを指定してる　\n",
        "print(a[\"japanese\"]) #aのラベルを指定\n",
        "\n",
        "\n",
        "c = pd.Series([1000], index=[\"Art\"]) #cの中にインデックスとラベルを追加\n",
        "a = a.append(c) #appendで追加　\n",
        "print(a)"
      ]
    }
  ]
}